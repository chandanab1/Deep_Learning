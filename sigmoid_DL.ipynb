{
 "cells": [
  {
   "cell_type": "code",
   "execution_count": 47,
   "id": "b5b113e4-803c-4b08-8654-6c39f0806da8",
   "metadata": {},
   "outputs": [],
   "source": [
    "import math\n",
    "def basic_sigmoid(x):\n",
    "    # \"\"\"\n",
    "    # Compute sigmoid of x.\n",
    "\n",
    "    # Arguments:\n",
    "    # x -- A Scalar\n",
    "\n",
    "    # Return:\n",
    "    # s -- sigmoid(x)\n",
    "    # \"\"\"\n",
    "\n",
    "    s = 1 / (1 + math.exp(-x))\n",
    "    return s"
   ]
  },
  {
   "cell_type": "code",
   "execution_count": 49,
   "id": "20493e9c-1b25-47e6-b028-f2f7f2cd780b",
   "metadata": {},
   "outputs": [
    {
     "data": {
      "text/plain": [
       "0.2689414213699951"
      ]
     },
     "execution_count": 49,
     "metadata": {},
     "output_type": "execute_result"
    }
   ],
   "source": [
    "basic_sigmoid(-1)"
   ]
  },
  {
   "cell_type": "code",
   "execution_count": 51,
   "id": "455ecdcf-557e-4ad7-946d-8018e276ae40",
   "metadata": {},
   "outputs": [
    {
     "name": "stdout",
     "output_type": "stream",
     "text": [
      "[ 2.71828183  7.3890561  20.08553692]\n"
     ]
    }
   ],
   "source": [
    "import numpy as np\n",
    "x=np.array([1,2,3])\n",
    "print(np.exp(x))"
   ]
  },
  {
   "cell_type": "code",
   "execution_count": 53,
   "id": "72f183ad-0ed8-45a3-a3bb-688bf616dcec",
   "metadata": {},
   "outputs": [
    {
     "name": "stdout",
     "output_type": "stream",
     "text": [
      "[4 5 6]\n"
     ]
    }
   ],
   "source": [
    "x=np.array([1,2,3])\n",
    "print(x+3)"
   ]
  },
  {
   "cell_type": "code",
   "execution_count": 75,
   "id": "1597328f-fc87-4a91-a032-8bf3f355d882",
   "metadata": {},
   "outputs": [],
   "source": [
    "import numpy as np\n",
    "def basic_sigmoid(x):\n",
    "    s = 1 / (1 + np.exp(-x))\n",
    "    return s"
   ]
  },
  {
   "cell_type": "code",
   "execution_count": 77,
   "id": "b389b886-a323-43e4-90bd-ac6a3be5cd9c",
   "metadata": {},
   "outputs": [
    {
     "data": {
      "text/plain": [
       "array([0.73105858, 0.88079708, 0.95257413])"
      ]
     },
     "execution_count": 77,
     "metadata": {},
     "output_type": "execute_result"
    }
   ],
   "source": [
    "basic_sigmoid(x)"
   ]
  },
  {
   "cell_type": "code",
   "execution_count": 113,
   "id": "de76d4a4-8fd3-4d92-bf67-ab7c77fee03c",
   "metadata": {},
   "outputs": [],
   "source": [
    "def gradient_sigmoid(x):\n",
    "    gs = basic_sigmoid(x)*(1-basic_sigmoid(x))\n",
    "    return gs"
   ]
  },
  {
   "cell_type": "code",
   "execution_count": 115,
   "id": "ea221e60-538f-4c08-9fa7-155567eeb303",
   "metadata": {},
   "outputs": [
    {
     "data": {
      "text/plain": [
       "array([0.19661193, 0.10499359, 0.04517666])"
      ]
     },
     "execution_count": 115,
     "metadata": {},
     "output_type": "execute_result"
    }
   ],
   "source": [
    "gradient_sigmoid(x)"
   ]
  },
  {
   "cell_type": "code",
   "execution_count": 137,
   "id": "8a9693a0-c17b-4fb0-bfa8-e43e3df52d39",
   "metadata": {},
   "outputs": [],
   "source": [
    "def image2vector(image):\n",
    "    v=image.reshape((image.shape[0]*image.shape[1]*image.shape[2],1))\n",
    "    return v"
   ]
  },
  {
   "cell_type": "code",
   "execution_count": 143,
   "id": "56e18733-7b54-4976-8a1b-f2e21708138c",
   "metadata": {},
   "outputs": [
    {
     "name": "stdout",
     "output_type": "stream",
     "text": [
      "image2vector(image) = [[0.67]\n",
      " [0.29]\n",
      " [0.9 ]\n",
      " [0.52]\n",
      " [0.42]\n",
      " [0.45]\n",
      " [0.56]\n",
      " [0.45]\n",
      " [0.9 ]\n",
      " [0.89]\n",
      " [0.27]\n",
      " [0.58]\n",
      " [0.45]\n",
      " [0.96]\n",
      " [0.87]\n",
      " [0.66]\n",
      " [0.73]\n",
      " [0.25]]\n"
     ]
    }
   ],
   "source": [
    "image = np.array([[[0.67, 0.29],\n",
    "                   [0.90, 0.52],\n",
    "                   [0.42, 0.45]],\n",
    "\n",
    "                   [[0.56, 0.45],\n",
    "                    [0.90, 0.89],\n",
    "                    [0.27, 0.58]],\n",
    "\n",
    "                    [[0.45, 0.96],\n",
    "                     [0.87, 0.66],\n",
    "                     [0.73, 0.25]]])\n",
    "\n",
    "print(\"image2vector(image) = \" + str(image2vector(image)))                    "
   ]
  },
  {
   "cell_type": "code",
   "execution_count": 145,
   "id": "df23cfb0-3525-4624-a6d6-7382e7e3afc7",
   "metadata": {},
   "outputs": [],
   "source": [
    "def normalizeRows(x):\n",
    "    x_norm = np.linalg.norm(x,axis = 1, keepdims = True)\n",
    "    x = x/x_norm #matrix/vector\n",
    "    return x\t  "
   ]
  },
  {
   "cell_type": "code",
   "execution_count": 147,
   "id": "21472fd2-6b9f-44af-832e-b149018c5b12",
   "metadata": {},
   "outputs": [
    {
     "name": "stdout",
     "output_type": "stream",
     "text": [
      "[[0.         0.999992   0.00399997]\n",
      " [0.26726124 0.80178373 0.53452248]]\n"
     ]
    }
   ],
   "source": [
    "x=np.array([[0, 1000, 4],\n",
    "            [2, 6, 4]])\n",
    "print(str(normalizeRows(x)))"
   ]
  },
  {
   "cell_type": "code",
   "execution_count": 149,
   "id": "25958375-cac8-4e36-a7a8-44c09a213e29",
   "metadata": {},
   "outputs": [],
   "source": [
    "def softmax(x):\n",
    "\n",
    "    x_exp = np.exp(x)\n",
    "    x_sum = np.sum(x_exp, axis = 1, keepdims = True)\n",
    "    s = x_exp / x_sum\n",
    "    \n",
    "    return s"
   ]
  },
  {
   "cell_type": "code",
   "execution_count": 163,
   "id": "6b980161-4b8d-4f71-9208-89ec29a7466c",
   "metadata": {},
   "outputs": [
    {
     "name": "stdout",
     "output_type": "stream",
     "text": [
      "softmax(x) = [[9.80897665e-01 8.94462891e-04 1.79657674e-02 1.21052389e-04\n",
      "  1.21052389e-04]\n",
      " [8.78679856e-01 1.18916387e-01 8.01252314e-04 8.01252314e-04\n",
      "  8.01252314e-04]]\n"
     ]
    }
   ],
   "source": [
    "x = np.array([\n",
    "    [9, 2, 5, 0, 0],\n",
    "    [7, 5, 0, 0, 0]])\n",
    "print(\"softmax(x) = \" + str(softmax(x)))"
   ]
  },
  {
   "cell_type": "code",
   "execution_count": 180,
   "id": "971a29fd-47f3-40b7-9b25-2839910cac1d",
   "metadata": {},
   "outputs": [
    {
     "name": "stdout",
     "output_type": "stream",
     "text": [
      "278\n",
      "0.0ms\n"
     ]
    }
   ],
   "source": [
    "import time\n",
    "\n",
    "x1 = [9, 2, 5, 0, 0, 7, 5, 0, 0, 0, 9, 2, 5, 0, 0]\n",
    "x2 = [9, 2, 2, 9, 0, 9, 2, 5, 0, 0, 9, 2, 5, 0, 0]\n",
    "\n",
    "tic = time.process_time()\n",
    "dot = 0\n",
    "for i in range(len(x1)):\n",
    "    dot+= x1[i]*x2[i]\n",
    "toc = time.process_time()\n",
    "print(str(dot)+\"\\n\"+ str(1000*(toc-tic))+\"ms\")\n"
   ]
  },
  {
   "cell_type": "code",
   "execution_count": 182,
   "id": "9fc33676-999e-477c-82df-6274cd951d6b",
   "metadata": {},
   "outputs": [
    {
     "name": "stdout",
     "output_type": "stream",
     "text": [
      "dot=278---computation time=0.0ms\n"
     ]
    }
   ],
   "source": [
    "# VECTORIZED DOT IMPLEMENTATION\n",
    "tic = time.process_time()\n",
    "dot=np.dot(x1,x2)\n",
    "toc=time.process_time()\n",
    "print(\"dot=\"+str(dot)+\"---computation time=\"+str(1000*(toc-tic))+\"ms\")\n"
   ]
  },
  {
   "cell_type": "code",
   "execution_count": null,
   "id": "0dbb491e-a82b-491e-b23d-7631f9848fdf",
   "metadata": {},
   "outputs": [],
   "source": []
  }
 ],
 "metadata": {
  "kernelspec": {
   "display_name": "Python 3 (ipykernel)",
   "language": "python",
   "name": "python3"
  },
  "language_info": {
   "codemirror_mode": {
    "name": "ipython",
    "version": 3
   },
   "file_extension": ".py",
   "mimetype": "text/x-python",
   "name": "python",
   "nbconvert_exporter": "python",
   "pygments_lexer": "ipython3",
   "version": "3.10.14"
  }
 },
 "nbformat": 4,
 "nbformat_minor": 5
}
